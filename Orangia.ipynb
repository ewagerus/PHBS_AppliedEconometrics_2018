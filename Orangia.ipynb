{
 "cells": [
  {
   "cell_type": "markdown",
   "metadata": {},
   "source": [
    "## UPLOADING LIBRARIES, PACKAGES AND DATAFILE"
   ]
  },
  {
   "cell_type": "markdown",
   "metadata": {},
   "source": [
    "* GENERAL"
   ]
  },
  {
   "cell_type": "code",
   "execution_count": 117,
   "metadata": {
    "collapsed": true
   },
   "outputs": [],
   "source": [
    "import pandas as pd\n",
    "import numpy as np\n",
    "from IPython.display import Image"
   ]
  },
  {
   "cell_type": "markdown",
   "metadata": {},
   "source": [
    "* PLOTS"
   ]
  },
  {
   "cell_type": "code",
   "execution_count": 118,
   "metadata": {
    "collapsed": true
   },
   "outputs": [],
   "source": [
    "import matplotlib.pyplot as plt   \n",
    "import seaborn as sns"
   ]
  },
  {
   "cell_type": "markdown",
   "metadata": {},
   "source": [
    "* REGRESSION"
   ]
  },
  {
   "cell_type": "code",
   "execution_count": 119,
   "metadata": {
    "collapsed": true
   },
   "outputs": [],
   "source": [
    "import statsmodels.formula.api as smf\n",
    "import statsmodels.stats.api as sms\n",
    "from statsmodels.compat import lzip\n",
    "from statsmodels.regression.linear_model import OLS\n",
    "from statsmodels.stats.outliers_influence import variance_inflation_factor"
   ]
  },
  {
   "cell_type": "markdown",
   "metadata": {},
   "source": [
    "* READING DATAFILE"
   ]
  },
  {
   "cell_type": "code",
   "execution_count": 120,
   "metadata": {
    "collapsed": true
   },
   "outputs": [],
   "source": [
    "df = pd.read_excel('odot.xlsx')"
   ]
  },
  {
   "cell_type": "markdown",
   "metadata": {},
   "source": [
    "## DATA PREPROCESSING"
   ]
  },
  {
   "cell_type": "code",
   "execution_count": 121,
   "metadata": {
    "collapsed": true
   },
   "outputs": [],
   "source": [
    "df.Ratio=df.Price/df.FairPr"
   ]
  },
  {
   "cell_type": "code",
   "execution_count": 122,
   "metadata": {},
   "outputs": [
    {
     "data": {
      "text/html": [
       "<div>\n",
       "<style scoped>\n",
       "    .dataframe tbody tr th:only-of-type {\n",
       "        vertical-align: middle;\n",
       "    }\n",
       "\n",
       "    .dataframe tbody tr th {\n",
       "        vertical-align: top;\n",
       "    }\n",
       "\n",
       "    .dataframe thead th {\n",
       "        text-align: right;\n",
       "    }\n",
       "</style>\n",
       "<table border=\"1\" class=\"dataframe\">\n",
       "  <thead>\n",
       "    <tr style=\"text-align: right;\">\n",
       "      <th></th>\n",
       "      <th>Price</th>\n",
       "      <th>FairPr</th>\n",
       "      <th>Ratio</th>\n",
       "      <th>Bidders</th>\n",
       "      <th>Rigged</th>\n",
       "      <th>Length</th>\n",
       "      <th>FxCost</th>\n",
       "      <th>Days</th>\n",
       "    </tr>\n",
       "  </thead>\n",
       "  <tbody>\n",
       "    <tr>\n",
       "      <th>count</th>\n",
       "      <td>133.000000</td>\n",
       "      <td>133.000000</td>\n",
       "      <td>133.000000</td>\n",
       "      <td>133.000000</td>\n",
       "      <td>133.000000</td>\n",
       "      <td>133.000000</td>\n",
       "      <td>133.000000</td>\n",
       "      <td>133.000000</td>\n",
       "    </tr>\n",
       "    <tr>\n",
       "      <th>mean</th>\n",
       "      <td>985.541353</td>\n",
       "      <td>1059.533835</td>\n",
       "      <td>0.950344</td>\n",
       "      <td>5.150376</td>\n",
       "      <td>0.270677</td>\n",
       "      <td>4.542857</td>\n",
       "      <td>516.429639</td>\n",
       "      <td>185.150376</td>\n",
       "    </tr>\n",
       "    <tr>\n",
       "      <th>std</th>\n",
       "      <td>1494.291210</td>\n",
       "      <td>1628.365678</td>\n",
       "      <td>0.143738</td>\n",
       "      <td>2.880173</td>\n",
       "      <td>0.445989</td>\n",
       "      <td>4.627966</td>\n",
       "      <td>1012.171017</td>\n",
       "      <td>173.985087</td>\n",
       "    </tr>\n",
       "    <tr>\n",
       "      <th>min</th>\n",
       "      <td>23.000000</td>\n",
       "      <td>22.000000</td>\n",
       "      <td>0.564278</td>\n",
       "      <td>1.000000</td>\n",
       "      <td>0.000000</td>\n",
       "      <td>0.100000</td>\n",
       "      <td>1.200000</td>\n",
       "      <td>30.000000</td>\n",
       "    </tr>\n",
       "    <tr>\n",
       "      <th>25%</th>\n",
       "      <td>167.000000</td>\n",
       "      <td>174.000000</td>\n",
       "      <td>0.846491</td>\n",
       "      <td>3.000000</td>\n",
       "      <td>0.000000</td>\n",
       "      <td>1.400000</td>\n",
       "      <td>26.268000</td>\n",
       "      <td>75.000000</td>\n",
       "    </tr>\n",
       "    <tr>\n",
       "      <th>50%</th>\n",
       "      <td>431.000000</td>\n",
       "      <td>435.000000</td>\n",
       "      <td>0.945107</td>\n",
       "      <td>4.000000</td>\n",
       "      <td>0.000000</td>\n",
       "      <td>3.100000</td>\n",
       "      <td>89.880000</td>\n",
       "      <td>125.000000</td>\n",
       "    </tr>\n",
       "    <tr>\n",
       "      <th>75%</th>\n",
       "      <td>924.000000</td>\n",
       "      <td>970.000000</td>\n",
       "      <td>1.045455</td>\n",
       "      <td>7.000000</td>\n",
       "      <td>1.000000</td>\n",
       "      <td>6.200000</td>\n",
       "      <td>378.219000</td>\n",
       "      <td>210.000000</td>\n",
       "    </tr>\n",
       "    <tr>\n",
       "      <th>max</th>\n",
       "      <td>9453.000000</td>\n",
       "      <td>9480.000000</td>\n",
       "      <td>1.304598</td>\n",
       "      <td>13.000000</td>\n",
       "      <td>1.000000</td>\n",
       "      <td>23.500000</td>\n",
       "      <td>6086.160000</td>\n",
       "      <td>900.000000</td>\n",
       "    </tr>\n",
       "  </tbody>\n",
       "</table>\n",
       "</div>"
      ],
      "text/plain": [
       "             Price       FairPr       Ratio     Bidders      Rigged  \\\n",
       "count   133.000000   133.000000  133.000000  133.000000  133.000000   \n",
       "mean    985.541353  1059.533835    0.950344    5.150376    0.270677   \n",
       "std    1494.291210  1628.365678    0.143738    2.880173    0.445989   \n",
       "min      23.000000    22.000000    0.564278    1.000000    0.000000   \n",
       "25%     167.000000   174.000000    0.846491    3.000000    0.000000   \n",
       "50%     431.000000   435.000000    0.945107    4.000000    0.000000   \n",
       "75%     924.000000   970.000000    1.045455    7.000000    1.000000   \n",
       "max    9453.000000  9480.000000    1.304598   13.000000    1.000000   \n",
       "\n",
       "           Length       FxCost        Days  \n",
       "count  133.000000   133.000000  133.000000  \n",
       "mean     4.542857   516.429639  185.150376  \n",
       "std      4.627966  1012.171017  173.985087  \n",
       "min      0.100000     1.200000   30.000000  \n",
       "25%      1.400000    26.268000   75.000000  \n",
       "50%      3.100000    89.880000  125.000000  \n",
       "75%      6.200000   378.219000  210.000000  \n",
       "max     23.500000  6086.160000  900.000000  "
      ]
     },
     "execution_count": 122,
     "metadata": {},
     "output_type": "execute_result"
    }
   ],
   "source": [
    "df.describe()"
   ]
  },
  {
   "cell_type": "markdown",
   "metadata": {},
   "source": [
    "* CORRELATION"
   ]
  },
  {
   "cell_type": "code",
   "execution_count": 123,
   "metadata": {},
   "outputs": [
    {
     "data": {
      "image/png": "[encoded data removed]",
      "text/plain": [
       "<Figure size 1080x1080 with 2 Axes>"
      ]
     },
     "metadata": {
      "needs_background": "light"
     },
     "output_type": "display_data"
    }
   ],
   "source": [
    "X = df[['FairPr', 'Bidders', 'Rigged', 'Length', 'FxCost', 'Days']]\n",
    "f, ax = plt.subplots(figsize=(15, 15))\n",
    "corr = X.corr()\n",
    "sns.heatmap(corr, mask=np.zeros_like(corr, dtype=np.bool), cmap=sns.diverging_palette(220, 10, as_cmap=True),\n",
    "            square=True, ax=ax)\n",
    "plt.show()"
   ]
  },
  {
   "cell_type": "markdown",
   "metadata": {},
   "source": [
    "Strong correlation between variables: \"FairPr\"- \"Days\" and \"FairPr\"- \"FxCost\" is observed. \n",
    "<BR> In general strong correlation between two variables included in a model has a negative impact on accuracy of estimated coefficients and may lead to their complete distraction. Common practise is to remove one of highly correlated variables from a model. However, on the purpose of this exercise, given this sepcific instruction and questions, both variables will be kept in the model. "
   ]
  },
  {
   "cell_type": "markdown",
   "metadata": {},
   "source": [
    "## MODEL 1"
   ]
  },
  {
   "cell_type": "markdown",
   "metadata": {},
   "source": [
    "Fit a regression model to the data, with the dependent variable Ratio, computed as the ratio of Price to FairPr, against the explanatory variables FairPr, Bidders, Rigged, Length, FxCost, and Days. Examine whether there is curvature or heteroskedasticity problem. Help Bob answer the following questions based on this regression."
   ]
  },
  {
   "cell_type": "markdown",
   "metadata": {},
   "source": [
    "* FITTING A REGRESSION MODEL"
   ]
  },
  {
   "cell_type": "code",
   "execution_count": 124,
   "metadata": {},
   "outputs": [
    {
     "name": "stdout",
     "output_type": "stream",
     "text": [
      "                            OLS Regression Results                            \n",
      "==============================================================================\n",
      "Dep. Variable:                  Ratio   R-squared:                       0.424\n",
      "Model:                            OLS   Adj. R-squared:                  0.397\n",
      "Method:                 Least Squares   F-statistic:                     15.48\n",
      "Date:                Mon, 14 Jan 2019   Prob (F-statistic):           3.04e-13\n",
      "Time:                        16:04:06   Log-Likelihood:                 106.50\n",
      "No. Observations:                 133   AIC:                            -199.0\n",
      "Df Residuals:                     126   BIC:                            -178.8\n",
      "Df Model:                           6                                         \n",
      "Covariance Type:            nonrobust                                         \n",
      "==============================================================================\n",
      "                 coef    std err          t      P>|t|      [0.025      0.975]\n",
      "------------------------------------------------------------------------------\n",
      "Intercept      0.9192      0.029     31.638      0.000       0.862       0.977\n",
      "FairPr     -4.811e-05   4.42e-05     -1.089      0.278      -0.000    3.93e-05\n",
      "Bidders       -0.0075      0.004     -1.876      0.063      -0.015       0.000\n",
      "Rigged         0.1832      0.025      7.341      0.000       0.134       0.233\n",
      "Length         0.0009      0.002      0.379      0.705      -0.004       0.006\n",
      "FxCost        5.5e-05   6.27e-05      0.877      0.382   -6.92e-05       0.000\n",
      "Days           0.0002      0.000      1.703      0.091   -3.37e-05       0.000\n",
      "==============================================================================\n",
      "Omnibus:                        0.234   Durbin-Watson:                   1.642\n",
      "Prob(Omnibus):                  0.890   Jarque-Bera (JB):                0.405\n",
      "Skew:                          -0.023   Prob(JB):                        0.817\n",
      "Kurtosis:                       2.733   Cond. No.                     7.79e+03\n",
      "==============================================================================\n",
      "\n",
      "Warnings:\n",
      "[1] Standard Errors assume that the covariance matrix of the errors is correctly specified.\n",
      "[2] The condition number is large, 7.79e+03. This might indicate that there are\n",
      "strong multicollinearity or other numerical problems.\n"
     ]
    }
   ],
   "source": [
    "results = smf.ols('Ratio ~ FairPr + Bidders + Rigged + Length + FxCost + Days', data=df).fit()\n",
    "print(results.summary())"
   ]
  },
  {
   "cell_type": "markdown",
   "metadata": {},
   "source": [
    "* MULTICOLLINEARITY"
   ]
  },
  {
   "cell_type": "code",
   "execution_count": 126,
   "metadata": {},
   "outputs": [
    {
     "data": {
      "text/plain": [
       "[('FairPr', 77.30138244893712),\n",
       " ('Bidders', 2.586880559860412),\n",
       " ('Rigged', 1.3403498715266824),\n",
       " ('Length', 2.5203119782872654),\n",
       " ('FxCost', 53.90230996264113),\n",
       " ('Days', 9.11122708185233)]"
      ]
     },
     "execution_count": 126,
     "metadata": {},
     "output_type": "execute_result"
    }
   ],
   "source": [
    "vif = [variance_inflation_factor(X.values, i) for i in range(X.shape[1])]\n",
    "lzip(X.columns, vif)"
   ]
  },
  {
   "cell_type": "markdown",
   "metadata": {},
   "source": [
    "To detect multicollinearity Variance Inflation Factor was used (VIF). It is deemed that if a VIF is greater than 10, high multicollinearity occurs and the factor will appear to be more influential than it really is. As indicated in the table above, we can observe VIF higher than 10 for 2 variables: \"FairPr\" and \"FxCost\". For variable \"Days\" VIF value is also almost close to 10. It should be noted that all of those 3 variables are variables between which strong correlation was observed. For this model it is recommended to apply methods that can be used to reduce high VIFs, that is to reduce multicollinearity that occurs in this model. However, as mentioned before, on the purpose of this exercise, given this sepcific instruction and qustions, all variables will be kept in the model. "
   ]
  },
  {
   "cell_type": "markdown",
   "metadata": {},
   "source": [
    "* FUNCTIONAL FORM OF A MODEL"
   ]
  },
  {
   "cell_type": "code",
   "execution_count": 137,
   "metadata": {
    "collapsed": true
   },
   "outputs": [],
   "source": [
    "# source: https://www.statsmodels.org/dev/_modules/statsmodels/stats/outliers_influence.html\n",
    "\n",
    "def reset_ramsey(res, degree=5):\n",
    "    '''Ramsey's RESET specification test for linear models\n",
    "\n",
    "    This is a general specification test, for additional non-linear effects\n",
    "    in a model.\n",
    "\n",
    "\n",
    "    Notes\n",
    "    -----\n",
    "    The test fits an auxiliary OLS regression where the design matrix, exog,\n",
    "    is augmented by powers 2 to degree of the fitted values. Then it performs\n",
    "    an F-test whether these additional terms are significant.\n",
    "\n",
    "    If the p-value of the f-test is below a threshold, e.g. 0.1, then this\n",
    "    indicates that there might be additional non-linear effects in the model\n",
    "    and that the linear model is mis-specified.\n",
    "\n",
    "\n",
    "    References\n",
    "    ----------\n",
    "    http://en.wikipedia.org/wiki/Ramsey_RESET_test\n",
    "\n",
    "    '''\n",
    "    order = degree + 1\n",
    "    k_vars = res.model.exog.shape[1]\n",
    "    #vander without constant and x:\n",
    "    y_fitted_vander = np.vander(res.fittedvalues, order)[:, :-2] #drop constant\n",
    "    exog = np.column_stack((res.model.exog, y_fitted_vander))\n",
    "    res_aux = OLS(res.model.endog, exog).fit()\n",
    "    #r_matrix = np.eye(degree, exog.shape[1], k_vars)\n",
    "    r_matrix = np.eye(degree-1, exog.shape[1], k_vars)\n",
    "    #df1 = degree - 1\n",
    "    #df2 = exog.shape[0] - degree - res.df_model  (without constant)\n",
    "    return res_aux.f_test(r_matrix) #, r_matrix, res_aux"
   ]
  },
  {
   "cell_type": "code",
   "execution_count": 128,
   "metadata": {},
   "outputs": [
    {
     "data": {
      "text/plain": [
       "<class 'statsmodels.stats.contrast.ContrastResults'>\n",
       "<F test: F=array([[0.47498008]]), p=0.7540258334875081, df_denom=122, df_num=4>"
      ]
     },
     "execution_count": 128,
     "metadata": {},
     "output_type": "execute_result"
    }
   ],
   "source": [
    "name = ['t value', 'p value']\n",
    "test = reset_ramsey(results)\n",
    "test"
   ]
  },
  {
   "cell_type": "markdown",
   "metadata": {},
   "source": [
    "Ramsey RESET Test\n",
    "<br> H_0: correct specification of the model\n",
    "<br> H_1: the model suffers from misspecification\n",
    "<br> RESET = 0.754 > 0.05 => no reason to reject null hyphothesis\n",
    "<br> The functional form of a model is correctly specified."
   ]
  },
  {
   "cell_type": "markdown",
   "metadata": {},
   "source": [
    "* NORMALITY OF THE RESIDUALS"
   ]
  },
  {
   "cell_type": "markdown",
   "metadata": {},
   "source": [
    "Jarque-Bera Test\n",
    "<br> H_0: residuals have a normal distribution\n",
    "<br> H_1: residuals do not have a normal distribution\n",
    "<br> JB = 0.817 > 0.05 => no reason to reject null hyphothesis\n",
    "<br> Residuals have a normal distribution."
   ]
  },
  {
   "cell_type": "markdown",
   "metadata": {},
   "source": [
    "* HETEROSKEDASTICITY"
   ]
  },
  {
   "cell_type": "code",
   "execution_count": 129,
   "metadata": {},
   "outputs": [
    {
     "data": {
      "text/plain": [
       "[('Lagrange multiplier statistic', 4.284121414130722),\n",
       " ('p-value', 0.6382871372608576),\n",
       " ('f-value', 0.6989545554531295),\n",
       " ('f p-value', 0.6509261255146672)]"
      ]
     },
     "execution_count": 129,
     "metadata": {},
     "output_type": "execute_result"
    }
   ],
   "source": [
    "name = ['Lagrange multiplier statistic', 'p-value',\n",
    "        'f-value', 'f p-value']\n",
    "test = sms.het_breuschpagan(results.resid, results.model.exog)\n",
    "lzip(name, test)"
   ]
  },
  {
   "cell_type": "markdown",
   "metadata": {},
   "source": [
    "Breush-Pagan test\n",
    "<br> H_0: homoskedasticity\n",
    "<br> H_1: heteroskedasticity\n",
    "BP = 0.638 > 0.05 => no reason to reject null hyphothesis\n",
    "<br> The problem of heteroskedasticity does not occure in this model. "
   ]
  },
  {
   "cell_type": "markdown",
   "metadata": {},
   "source": [
    "\n",
    "#### (i) Give your best estimate and a 90% confidence interval of what will happen to the ratio of the actual price to the estimated cost if the number of days for a project decreases by 250, holding the other independent variables fixed."
   ]
  },
  {
   "cell_type": "code",
   "execution_count": 134,
   "metadata": {},
   "outputs": [
    {
     "data": {
      "text/plain": [
       "[('Mean', -0.05192376436139343),\n",
       " ('10% Lower Bound', -0.0013895012892829613),\n",
       " ('10% Upper Bound', -0.1024580274335039)]"
      ]
     },
     "execution_count": 134,
     "metadata": {},
     "output_type": "execute_result"
    }
   ],
   "source": [
    "days_change = - 250\n",
    "\n",
    "mean = results.params.loc['Days'] * days_change\n",
    "interval = results.conf_int(alpha=0.1).loc['Days'] * days_change\n",
    "\n",
    "lzip(['Mean', '10% Lower Bound', '10% Upper Bound'],\n",
    "     [mean, interval[0], interval[1]])"
   ]
  },
  {
   "cell_type": "markdown",
   "metadata": {},
   "source": [
    "#### (ii) Can you claim at the usual 5% significance level that an increase in the number of bidders, holding the other independent variables fixed, will on average decrease the ratio of the price of a project relative to the ODOT estimate?"
   ]
  },
  {
   "cell_type": "markdown",
   "metadata": {},
   "source": [
    "Analyzing table \"OLS Regression Results\" and values of P>|t| for each coefficient, assuming 5% level of significance, we are not in a position to claim that increasing the number of bidders will decrease the ratio. (p-value of Bidders: 0.063 > 0.05)"
   ]
  },
  {
   "cell_type": "markdown",
   "metadata": {},
   "source": [
    "#### (iii) Would it be legitimate, at the usual 5% significance level, to drop the variables FairPr and FxCost out of the regression, if you wanted to do so? If the answer is yes, write down the new estimated regression equation."
   ]
  },
  {
   "cell_type": "markdown",
   "metadata": {},
   "source": [
    "Analyzing table \"OLS Regression Results\" and values of P>|t| for each coefficient, assuming 5% level of significance, we are in a position to claim that variables FairPr and FxCost are not statistically significant so we can drop the out of the regression. (p-value of FairPr: 0.278 > 0.05 ; p-value of FxCost: 0.382 > 0.05)"
   ]
  },
  {
   "cell_type": "code",
   "execution_count": 145,
   "metadata": {
    "scrolled": true
   },
   "outputs": [
    {
     "name": "stdout",
     "output_type": "stream",
     "text": [
      "                            OLS Regression Results                            \n",
      "==============================================================================\n",
      "Dep. Variable:                  Ratio   R-squared:                       0.417\n",
      "Model:                            OLS   Adj. R-squared:                  0.399\n",
      "Method:                 Least Squares   F-statistic:                     22.91\n",
      "Date:                Tue, 15 Jan 2019   Prob (F-statistic):           2.73e-14\n",
      "Time:                        11:11:10   Log-Likelihood:                 105.68\n",
      "No. Observations:                 133   AIC:                            -201.4\n",
      "Df Residuals:                     128   BIC:                            -186.9\n",
      "Df Model:                           4                                         \n",
      "Covariance Type:            nonrobust                                         \n",
      "==============================================================================\n",
      "                 coef    std err          t      P>|t|      [0.025      0.975]\n",
      "------------------------------------------------------------------------------\n",
      "Intercept      0.9273      0.028     33.396      0.000       0.872       0.982\n",
      "Bidders       -0.0080      0.004     -2.022      0.045      -0.016      -0.000\n",
      "Rigged         0.1849      0.025      7.477      0.000       0.136       0.234\n",
      "Length        -0.0002      0.002     -0.115      0.909      -0.004       0.004\n",
      "Days        8.277e-05   5.89e-05      1.405      0.163   -3.38e-05       0.000\n",
      "==============================================================================\n",
      "Omnibus:                        0.127   Durbin-Watson:                   1.630\n",
      "Prob(Omnibus):                  0.939   Jarque-Bera (JB):                0.266\n",
      "Skew:                          -0.054   Prob(JB):                        0.875\n",
      "Kurtosis:                       2.809   Cond. No.                         858.\n",
      "==============================================================================\n",
      "\n",
      "Warnings:\n",
      "[1] Standard Errors assume that the covariance matrix of the errors is correctly specified.\n"
     ]
    }
   ],
   "source": [
    "results1 = smf.ols('Ratio ~ Bidders + Rigged + Length + Days', data=df).fit()\n",
    "print(results1.summary())"
   ]
  },
  {
   "cell_type": "code",
   "execution_count": 140,
   "metadata": {},
   "outputs": [
    {
     "data": {
      "image/png": "[encoded data removed]",
      "text/plain": [
       "<IPython.core.display.Image object>"
      ]
     },
     "execution_count": 140,
     "metadata": {},
     "output_type": "execute_result"
    }
   ],
   "source": [
    "Image(\"images/img1.png\")"
   ]
  },
  {
   "cell_type": "markdown",
   "metadata": {},
   "source": [
    "(iv) One of your colleagues, Stan, draws your attention to a potential problem in the regression. He claims, “Almost all of the jobs the attorney general classified as rigged took place during the hot summer months. Everyone knows that jobs in the hot weather are harder to do, and therefore command a greater premium over estimated costs than jobs done at other times of the year.”"
   ]
  },
  {
   "cell_type": "markdown",
   "metadata": {},
   "source": [
    "#### (a) If Stan is right then what is wrong with the regression?"
   ]
  },
  {
   "cell_type": "markdown",
   "metadata": {},
   "source": [
    "If Stan is right, it means that the current regression model overestimates the influence of a job classified as rigged on the price. Assuming that if when a job is classified as rigged it is also usually done during the hot summer months and assuming that hot weather has a positive influence on the price, the current model's \"Rigged\" coefficient actually partly captures the effect of the hot weather and attributes it to a technaclly wrong cause."
   ]
  },
  {
   "cell_type": "markdown",
   "metadata": {},
   "source": [
    "#### (b) Suppose you can gather data regarding the time of year each job took place and use it to create a new variable, HOT (= 1 if the job took place during the hot summer months and = 0 otherwise). If Stan is right, what will change (and how) when you include HOT as an additional independent variable in the regression?"
   ]
  },
  {
   "cell_type": "markdown",
   "metadata": {},
   "source": [
    "After the introduction of the HOT variable, assuming that \"Rigged\" usually equals 1 whenever \"HOT\" equals 1 (as Stan claims), the effect (coefficient) of the \"Rigged\" variable on the price will decrease and the regression model will assign a positive coefficient to the \"HOT\" variable which now captures the effect of hot weather on the price. However, the higher the correlation between the two variables, the lower the precision of the assignmenet of the effect to the two variables.\n",
    "\n",
    "In the example below, \"Rigged\" and \"HOT\" have a correlation of 1 (100%). The resulting regression model assigns both variables exactly half the size of the previous coefficient of \"Rigged\"."
   ]
  },
  {
   "cell_type": "code",
   "execution_count": 144,
   "metadata": {},
   "outputs": [
    {
     "name": "stdout",
     "output_type": "stream",
     "text": [
      "                            OLS Regression Results                            \n",
      "==============================================================================\n",
      "Dep. Variable:                  Ratio   R-squared:                       0.417\n",
      "Model:                            OLS   Adj. R-squared:                  0.399\n",
      "Method:                 Least Squares   F-statistic:                     22.91\n",
      "Date:                Tue, 15 Jan 2019   Prob (F-statistic):           2.73e-14\n",
      "Time:                        11:08:32   Log-Likelihood:                 105.68\n",
      "No. Observations:                 133   AIC:                            -201.4\n",
      "Df Residuals:                     128   BIC:                            -186.9\n",
      "Df Model:                           4                                         \n",
      "Covariance Type:            nonrobust                                         \n",
      "==============================================================================\n",
      "                 coef    std err          t      P>|t|      [0.025      0.975]\n",
      "------------------------------------------------------------------------------\n",
      "Intercept      0.9273      0.028     33.396      0.000       0.872       0.982\n",
      "Bidders       -0.0080      0.004     -2.022      0.045      -0.016      -0.000\n",
      "Rigged         0.0925      0.012      7.477      0.000       0.068       0.117\n",
      "HOT            0.0925      0.012      7.477      0.000       0.068       0.117\n",
      "Length        -0.0002      0.002     -0.115      0.909      -0.004       0.004\n",
      "Days        8.277e-05   5.89e-05      1.405      0.163   -3.38e-05       0.000\n",
      "==============================================================================\n",
      "Omnibus:                        0.127   Durbin-Watson:                   1.630\n",
      "Prob(Omnibus):                  0.939   Jarque-Bera (JB):                0.266\n",
      "Skew:                          -0.054   Prob(JB):                        0.875\n",
      "Kurtosis:                       2.809   Cond. No.                     4.32e+19\n",
      "==============================================================================\n",
      "\n",
      "Warnings:\n",
      "[1] Standard Errors assume that the covariance matrix of the errors is correctly specified.\n",
      "[2] The smallest eigenvalue is 4.59e-33. This might indicate that there are\n",
      "strong multicollinearity problems or that the design matrix is singular.\n"
     ]
    }
   ],
   "source": [
    "df['HOT'] = df['Rigged']\n",
    "results_hot = smf.ols('Ratio ~ Bidders + Rigged + HOT + Length + Days', data=df).fit()\n",
    "print(results_hot.summary())"
   ]
  },
  {
   "cell_type": "markdown",
   "metadata": {},
   "source": [
    "## MODEL 2a"
   ]
  },
  {
   "cell_type": "markdown",
   "metadata": {},
   "source": [
    "For answering following, you must build your own regression models, if necessary. Remember to check the soundness of your specifications (linearity and homoskedasticity). Use a significance level of at least 20% when deciding to drop variable(s).\n",
    "<BR> Develop a sound regression model to estimate and predict the winning bid (Price) on the final contract for 2018, which has the characteristics below.\n",
    "<br> • The estimated cost is 10,000,000, of which 7,000,000 is due to fixed costs.\n",
    "<br> • The 4 contractors interested in the project are expected not to rig the auction."
   ]
  },
  {
   "cell_type": "markdown",
   "metadata": {},
   "source": [
    "* FITTING A REGRESSION MODEL"
   ]
  },
  {
   "cell_type": "code",
   "execution_count": 46,
   "metadata": {},
   "outputs": [
    {
     "name": "stdout",
     "output_type": "stream",
     "text": [
      "                            OLS Regression Results                            \n",
      "==============================================================================\n",
      "Dep. Variable:                  Price   R-squared:                       0.968\n",
      "Model:                            OLS   Adj. R-squared:                  0.967\n",
      "Method:                 Least Squares   F-statistic:                     973.5\n",
      "Date:                Mon, 14 Jan 2019   Prob (F-statistic):           9.44e-95\n",
      "Time:                        15:07:41   Log-Likelihood:                -931.11\n",
      "No. Observations:                 133   AIC:                             1872.\n",
      "Df Residuals:                     128   BIC:                             1887.\n",
      "Df Model:                           4                                         \n",
      "Covariance Type:            nonrobust                                         \n",
      "==============================================================================\n",
      "                 coef    std err          t      P>|t|      [0.025      0.975]\n",
      "------------------------------------------------------------------------------\n",
      "Intercept     93.9664     64.099      1.466      0.145     -32.864     220.796\n",
      "FairPr         0.8515      0.077     11.032      0.000       0.699       1.004\n",
      "Bidders      -17.3139      9.677     -1.789      0.076     -36.462       1.834\n",
      "Rigged        88.1078     59.666      1.477      0.142     -29.952     206.167\n",
      "FxCost         0.1060      0.124      0.855      0.394      -0.139       0.351\n",
      "==============================================================================\n",
      "Omnibus:                      112.239   Durbin-Watson:                   2.030\n",
      "Prob(Omnibus):                  0.000   Jarque-Bera (JB):             2920.016\n",
      "Skew:                          -2.500   Prob(JB):                         0.00\n",
      "Kurtosis:                      25.403   Cond. No.                     7.52e+03\n",
      "==============================================================================\n",
      "\n",
      "Warnings:\n",
      "[1] Standard Errors assume that the covariance matrix of the errors is correctly specified.\n",
      "[2] The condition number is large, 7.52e+03. This might indicate that there are\n",
      "strong multicollinearity or other numerical problems.\n"
     ]
    }
   ],
   "source": [
    "results2 = smf.ols('Price ~ FairPr + Bidders + Rigged + FxCost', data=df).fit()\n",
    "print(results2.summary())"
   ]
  },
  {
   "cell_type": "markdown",
   "metadata": {},
   "source": [
    "Analyzing table \"OLS Regression Results\" and values of P>|t| for each coefficient, assuming 20% level of significance, we are in a position to claim that variable FxCost is not statistically significant so we can drop the out of the regression. (p-value of FxCost: 0.394 > 0.2) The variable was dropped and a new model was estimated."
   ]
  },
  {
   "cell_type": "code",
   "execution_count": 47,
   "metadata": {},
   "outputs": [
    {
     "name": "stdout",
     "output_type": "stream",
     "text": [
      "                            OLS Regression Results                            \n",
      "==============================================================================\n",
      "Dep. Variable:                  Price   R-squared:                       0.968\n",
      "Model:                            OLS   Adj. R-squared:                  0.967\n",
      "Method:                 Least Squares   F-statistic:                     1301.\n",
      "Date:                Mon, 14 Jan 2019   Prob (F-statistic):           3.47e-96\n",
      "Time:                        15:08:07   Log-Likelihood:                -931.49\n",
      "No. Observations:                 133   AIC:                             1871.\n",
      "Df Residuals:                     129   BIC:                             1883.\n",
      "Df Model:                           3                                         \n",
      "Covariance Type:            nonrobust                                         \n",
      "==============================================================================\n",
      "                 coef    std err          t      P>|t|      [0.025      0.975]\n",
      "------------------------------------------------------------------------------\n",
      "Intercept     78.4696     61.421      1.278      0.204     -43.053     199.992\n",
      "FairPr         0.9162      0.015     59.603      0.000       0.886       0.947\n",
      "Bidders      -17.1260      9.665     -1.772      0.079     -36.248       1.996\n",
      "Rigged        90.7143     59.526      1.524      0.130     -27.060     208.488\n",
      "==============================================================================\n",
      "Omnibus:                      111.997   Durbin-Watson:                   2.044\n",
      "Prob(Omnibus):                  0.000   Jarque-Bera (JB):             3019.018\n",
      "Skew:                          -2.476   Prob(JB):                         0.00\n",
      "Kurtosis:                      25.809   Cond. No.                     6.39e+03\n",
      "==============================================================================\n",
      "\n",
      "Warnings:\n",
      "[1] Standard Errors assume that the covariance matrix of the errors is correctly specified.\n",
      "[2] The condition number is large, 6.39e+03. This might indicate that there are\n",
      "strong multicollinearity or other numerical problems.\n"
     ]
    }
   ],
   "source": [
    "results3 = smf.ols('Price ~ FairPr + Bidders + Rigged', data=df).fit()\n",
    "print(results3.summary())"
   ]
  },
  {
   "cell_type": "markdown",
   "metadata": {},
   "source": [
    "* MULTICOLLINEARITY"
   ]
  },
  {
   "cell_type": "code",
   "execution_count": 50,
   "metadata": {
    "collapsed": true
   },
   "outputs": [],
   "source": [
    "X_1 = df[['FairPr', 'Bidders', 'Rigged']]"
   ]
  },
  {
   "cell_type": "code",
   "execution_count": 51,
   "metadata": {},
   "outputs": [
    {
     "data": {
      "text/plain": [
       "[('FairPr', 1.6123719489065504),\n",
       " ('Bidders', 1.6841488442073644),\n",
       " ('Rigged', 1.0739000919206745)]"
      ]
     },
     "execution_count": 51,
     "metadata": {},
     "output_type": "execute_result"
    }
   ],
   "source": [
    "vif = [variance_inflation_factor(X_1.values, i) for i in range(X_1.shape[1])]\n",
    "lzip(X_1.columns, vif)"
   ]
  },
  {
   "cell_type": "markdown",
   "metadata": {},
   "source": [
    "Analyzing values of Variance Inflation Factors for all variables included in the model, we are in a position to claim that the problem of multicollinearity does not occure in this model. "
   ]
  },
  {
   "cell_type": "markdown",
   "metadata": {},
   "source": [
    "* FUNCTIONAL FORM OF A MODEL"
   ]
  },
  {
   "cell_type": "code",
   "execution_count": 146,
   "metadata": {},
   "outputs": [
    {
     "data": {
      "text/plain": [
       "<class 'statsmodels.stats.contrast.ContrastResults'>\n",
       "<F test: F=array([[1286.27748349]]), p=7.24548266486042e-103, df_denom=129, df_num=4>"
      ]
     },
     "execution_count": 146,
     "metadata": {},
     "output_type": "execute_result"
    }
   ],
   "source": [
    "name = ['t value', 'p value']\n",
    "test = reset_ramsey(results3)\n",
    "test"
   ]
  },
  {
   "cell_type": "markdown",
   "metadata": {},
   "source": [
    "Ramsey RESET Test\n",
    "<br> H_0: correct specification of the model\n",
    "<br> H_1: the model suffers from misspecification\n",
    "<br> RESET = 7.24548266486042e-103 < 0.05 => there is a reason to reject null hyphothesis\n",
    "<br> The model suffers from misspecification."
   ]
  },
  {
   "cell_type": "markdown",
   "metadata": {},
   "source": [
    "* NORMALITY OF THE RESIDUALS"
   ]
  },
  {
   "cell_type": "markdown",
   "metadata": {},
   "source": [
    "Jarque-Bera Test\n",
    "<br> H_0: residuals have a normal distribution\n",
    "<br> H_1: residuals do not have a normal distribution\n",
    "<br> JB = 0.00 > 0.05 => there is a reason to reject null hyphothesis\n",
    "<br> Residuals do not have a normal distribution"
   ]
  },
  {
   "cell_type": "code",
   "execution_count": 147,
   "metadata": {},
   "outputs": [
    {
     "data": {
      "image/png": "[encoded data removed]",
      "text/plain": [
       "<Figure size 432x288 with 1 Axes>"
      ]
     },
     "metadata": {},
     "output_type": "display_data"
    }
   ],
   "source": [
    "plt.hist(results3.resid)\n",
    "plt.ylabel('Count')\n",
    "plt.xlabel('Residuals')\n",
    "plt.show()"
   ]
  },
  {
   "cell_type": "markdown",
   "metadata": {},
   "source": [
    "* HETEROSKEDASTICITY"
   ]
  },
  {
   "cell_type": "code",
   "execution_count": 74,
   "metadata": {},
   "outputs": [
    {
     "data": {
      "text/plain": [
       "[('Lagrange multiplier statistic', 47.30678503749735),\n",
       " ('p-value', 2.990676834816012e-10),\n",
       " ('f-value', 23.73807258255512),\n",
       " ('f p-value', 2.677834124908958e-12)]"
      ]
     },
     "execution_count": 74,
     "metadata": {},
     "output_type": "execute_result"
    }
   ],
   "source": [
    "name = ['Lagrange multiplier statistic', 'p-value',\n",
    "        'f-value', 'f p-value']\n",
    "test = sms.het_breuschpagan(results3.resid, results3.model.exog)\n",
    "lzip(name, test)"
   ]
  },
  {
   "cell_type": "markdown",
   "metadata": {},
   "source": [
    "Breush-Pagan test\n",
    "<br> H_0: homoskedasticity\n",
    "<br> H_1: heteroskedasticity\n",
    "BP = 2.990676834816012e-10 < 0.05 => there is a reason to reject null hyphothesis\n",
    "<br> The problem of heteroskedasticity occures in this model. "
   ]
  },
  {
   "cell_type": "markdown",
   "metadata": {},
   "source": [
    "## MODEL 2b"
   ]
  },
  {
   "cell_type": "markdown",
   "metadata": {},
   "source": [
    "Taking into consideration results of tests checking functional form of a model, normality of its residuals and its heteroskedasticity, we decided to reevaluate a functional form of the model. As far as meeting an assumption of a normal distribution of residuals is desirable however not mandatory, using OLS method for regression requires a condition of homoskedastic residuals to be met. "
   ]
  },
  {
   "cell_type": "markdown",
   "metadata": {},
   "source": [
    "* FITTING A REGRESSION MODEL"
   ]
  },
  {
   "cell_type": "markdown",
   "metadata": {},
   "source": [
    "The method we decided to use to fix a problem with both- non normal distribution of residuals and its heteroskedasticity, is an adoption of logaritms of non binary variables that do not meet an assumption of a normal distribution of its own."
   ]
  },
  {
   "cell_type": "code",
   "execution_count": 165,
   "metadata": {},
   "outputs": [
    {
     "data": {
      "image/png": "[encoded data removed]",
      "text/plain": [
       "<Figure size 432x288 with 1 Axes>"
      ]
     },
     "metadata": {},
     "output_type": "display_data"
    }
   ],
   "source": [
    "plt.hist(df.Price)\n",
    "plt.ylabel('Count')\n",
    "plt.xlabel('Residuals')\n",
    "plt.show()"
   ]
  },
  {
   "cell_type": "code",
   "execution_count": 157,
   "metadata": {},
   "outputs": [
    {
     "data": {
      "image/png": "[encoded data removed]",
      "text/plain": [
       "<Figure size 432x288 with 1 Axes>"
      ]
     },
     "metadata": {},
     "output_type": "display_data"
    }
   ],
   "source": [
    "plt.hist(df.FairPr)\n",
    "plt.ylabel('Count')\n",
    "plt.xlabel('Residuals')\n",
    "plt.show()"
   ]
  },
  {
   "cell_type": "code",
   "execution_count": 158,
   "metadata": {},
   "outputs": [
    {
     "data": {
      "image/png": "[encoded data removed]",
      "text/plain": [
       "<Figure size 432x288 with 1 Axes>"
      ]
     },
     "metadata": {},
     "output_type": "display_data"
    }
   ],
   "source": [
    "plt.hist(df.FxCost)\n",
    "plt.ylabel('Count')\n",
    "plt.xlabel('Residuals')\n",
    "plt.show()"
   ]
  },
  {
   "cell_type": "code",
   "execution_count": 159,
   "metadata": {},
   "outputs": [
    {
     "data": {
      "image/png": "[encoded data removed]",
      "text/plain": [
       "<Figure size 432x288 with 1 Axes>"
      ]
     },
     "metadata": {},
     "output_type": "display_data"
    }
   ],
   "source": [
    "plt.hist(df.Bidders)\n",
    "plt.ylabel('Count')\n",
    "plt.xlabel('Residuals')\n",
    "plt.show()"
   ]
  },
  {
   "cell_type": "code",
   "execution_count": 160,
   "metadata": {
    "collapsed": true
   },
   "outputs": [],
   "source": [
    "df['logPrice']=np.log(df['Price'])\n",
    "df['logFairPr']=np.log(df['FairPr'])\n",
    "df['logFxCost']=np.log(df['FxCost'])\n",
    "df['logBidders']=np.log(df['Bidders'])"
   ]
  },
  {
   "cell_type": "code",
   "execution_count": 161,
   "metadata": {},
   "outputs": [
    {
     "data": {
      "image/png": "[encoded data removed]",
      "text/plain": [
       "<Figure size 432x288 with 1 Axes>"
      ]
     },
     "metadata": {},
     "output_type": "display_data"
    }
   ],
   "source": [
    "plt.hist(df.logPrice)\n",
    "plt.ylabel('Count')\n",
    "plt.xlabel('Residuals')\n",
    "plt.show()"
   ]
  },
  {
   "cell_type": "code",
   "execution_count": 162,
   "metadata": {},
   "outputs": [
    {
     "data": {
      "image/png": "[encoded data removed]",
      "text/plain": [
       "<Figure size 432x288 with 1 Axes>"
      ]
     },
     "metadata": {},
     "output_type": "display_data"
    }
   ],
   "source": [
    "plt.hist(df.logFairPr)\n",
    "plt.ylabel('Count')\n",
    "plt.xlabel('Residuals')\n",
    "plt.show()"
   ]
  },
  {
   "cell_type": "code",
   "execution_count": 163,
   "metadata": {},
   "outputs": [
    {
     "data": {
      "image/png": "[encoded data removed]",
      "text/plain": [
       "<Figure size 432x288 with 1 Axes>"
      ]
     },
     "metadata": {},
     "output_type": "display_data"
    }
   ],
   "source": [
    "plt.hist(df.logFxCost)\n",
    "plt.ylabel('Count')\n",
    "plt.xlabel('Residuals')\n",
    "plt.show()"
   ]
  },
  {
   "cell_type": "code",
   "execution_count": 164,
   "metadata": {},
   "outputs": [
    {
     "data": {
      "image/png": "[encoded data removed]",
      "text/plain": [
       "<Figure size 432x288 with 1 Axes>"
      ]
     },
     "metadata": {},
     "output_type": "display_data"
    }
   ],
   "source": [
    "plt.hist(df.logBidders)\n",
    "plt.ylabel('Count')\n",
    "plt.xlabel('Residuals')\n",
    "plt.show()"
   ]
  },
  {
   "cell_type": "code",
   "execution_count": 148,
   "metadata": {},
   "outputs": [
    {
     "name": "stdout",
     "output_type": "stream",
     "text": [
      "                            OLS Regression Results                            \n",
      "==============================================================================\n",
      "Dep. Variable:               logPrice   R-squared:                       0.992\n",
      "Model:                            OLS   Adj. R-squared:                  0.992\n",
      "Method:                 Least Squares   F-statistic:                     3972.\n",
      "Date:                Tue, 15 Jan 2019   Prob (F-statistic):          3.81e-133\n",
      "Time:                        11:34:00   Log-Likelihood:                 92.598\n",
      "No. Observations:                 133   AIC:                            -175.2\n",
      "Df Residuals:                     128   BIC:                            -160.7\n",
      "Df Model:                           4                                         \n",
      "Covariance Type:            nonrobust                                         \n",
      "==============================================================================\n",
      "                 coef    std err          t      P>|t|      [0.025      0.975]\n",
      "------------------------------------------------------------------------------\n",
      "Intercept     -0.0270      0.073     -0.370      0.712      -0.171       0.117\n",
      "logFairPr      0.9845      0.019     52.091      0.000       0.947       1.022\n",
      "logBidders    -0.0481      0.025     -1.909      0.058      -0.098       0.002\n",
      "Rigged         0.1790      0.028      6.285      0.000       0.123       0.235\n",
      "logFxCost      0.0174      0.014      1.264      0.209      -0.010       0.045\n",
      "==============================================================================\n",
      "Omnibus:                        5.554   Durbin-Watson:                   1.735\n",
      "Prob(Omnibus):                  0.062   Jarque-Bera (JB):                5.033\n",
      "Skew:                          -0.426   Prob(JB):                       0.0808\n",
      "Kurtosis:                       3.425   Cond. No.                         59.0\n",
      "==============================================================================\n",
      "\n",
      "Warnings:\n",
      "[1] Standard Errors assume that the covariance matrix of the errors is correctly specified.\n"
     ]
    }
   ],
   "source": [
    "results4 = smf.ols('logPrice ~ logFairPr + logBidders + Rigged + logFxCost', data=df).fit()\n",
    "print(results4.summary())"
   ]
  },
  {
   "cell_type": "markdown",
   "metadata": {},
   "source": [
    "Analyzing table \"OLS Regression Results\" and values of P>|t| for each coefficient, assuming 20% level of significance, we are in a position to claim that variable logFxCost is not statistically significant so we can drop the out of the regression. (p-value of logFxCost: 0.209 > 0.2) The variable was dropped and a new model was estimated."
   ]
  },
  {
   "cell_type": "code",
   "execution_count": 149,
   "metadata": {},
   "outputs": [
    {
     "name": "stdout",
     "output_type": "stream",
     "text": [
      "                            OLS Regression Results                            \n",
      "==============================================================================\n",
      "Dep. Variable:               logPrice   R-squared:                       0.992\n",
      "Model:                            OLS   Adj. R-squared:                  0.992\n",
      "Method:                 Least Squares   F-statistic:                     5271.\n",
      "Date:                Tue, 15 Jan 2019   Prob (F-statistic):          1.07e-134\n",
      "Time:                        11:35:01   Log-Likelihood:                 91.774\n",
      "No. Observations:                 133   AIC:                            -175.5\n",
      "Df Residuals:                     129   BIC:                            -164.0\n",
      "Df Model:                           3                                         \n",
      "Covariance Type:            nonrobust                                         \n",
      "==============================================================================\n",
      "                 coef    std err          t      P>|t|      [0.025      0.975]\n",
      "------------------------------------------------------------------------------\n",
      "Intercept     -0.0880      0.055     -1.608      0.110      -0.196       0.020\n",
      "logFairPr      1.0058      0.009    117.164      0.000       0.989       1.023\n",
      "logBidders    -0.0403      0.024     -1.645      0.102      -0.089       0.008\n",
      "Rigged         0.1844      0.028      6.530      0.000       0.128       0.240\n",
      "==============================================================================\n",
      "Omnibus:                        7.553   Durbin-Watson:                   1.736\n",
      "Prob(Omnibus):                  0.023   Jarque-Bera (JB):                7.388\n",
      "Skew:                          -0.476   Prob(JB):                       0.0249\n",
      "Kurtosis:                       3.653   Cond. No.                         34.8\n",
      "==============================================================================\n",
      "\n",
      "Warnings:\n",
      "[1] Standard Errors assume that the covariance matrix of the errors is correctly specified.\n"
     ]
    }
   ],
   "source": [
    "results4 = smf.ols('logPrice ~ logFairPr + logBidders + Rigged', data=df).fit()\n",
    "print(results4.summary())"
   ]
  },
  {
   "cell_type": "markdown",
   "metadata": {},
   "source": [
    "* MULTICOLLINEARITY"
   ]
  },
  {
   "cell_type": "code",
   "execution_count": 150,
   "metadata": {
    "collapsed": true
   },
   "outputs": [],
   "source": [
    "X_2 = df[['logFairPr', 'logBidders', 'Rigged']]"
   ]
  },
  {
   "cell_type": "code",
   "execution_count": 151,
   "metadata": {},
   "outputs": [
    {
     "data": {
      "text/plain": [
       "[('logFairPr', 13.220407058623985),\n",
       " ('logBidders', 11.308092687222954),\n",
       " ('Rigged', 1.6360674797789685)]"
      ]
     },
     "execution_count": 151,
     "metadata": {},
     "output_type": "execute_result"
    }
   ],
   "source": [
    "vif = [variance_inflation_factor(X_2.values, i) for i in range(X_2.shape[1])]\n",
    "lzip(X_2.columns, vif)"
   ]
  },
  {
   "cell_type": "markdown",
   "metadata": {},
   "source": [
    "* FUNCTIONAL FORM OF A MODEL"
   ]
  },
  {
   "cell_type": "code",
   "execution_count": 152,
   "metadata": {},
   "outputs": [
    {
     "data": {
      "text/plain": [
       "<class 'statsmodels.stats.contrast.ContrastResults'>\n",
       "<F test: F=array([[0.84061111]]), p=0.5019290771502827, df_denom=125, df_num=4>"
      ]
     },
     "execution_count": 152,
     "metadata": {},
     "output_type": "execute_result"
    }
   ],
   "source": [
    "name = ['t value', 'p value']\n",
    "test = reset_ramsey(results4)\n",
    "test"
   ]
  },
  {
   "cell_type": "markdown",
   "metadata": {},
   "source": [
    "Ramsey RESET Test\n",
    "<br> H_0: correct specification of the model\n",
    "<br> H_1: the model suffers from misspecification\n",
    "<br> RESET = 0.5019290771502827 > 0.05 => there is no reason to reject null hyphothesis\n",
    "<br> The model is correctly specified."
   ]
  },
  {
   "cell_type": "markdown",
   "metadata": {},
   "source": [
    "* NORMALITY OF THE RESIDUALS"
   ]
  },
  {
   "cell_type": "markdown",
   "metadata": {},
   "source": [
    "Jarque-Bera Test\n",
    "<br> H_0: residuals have a normal distribution\n",
    "<br> H_1: residuals do not have a normal distribution\n",
    "<br> JB = 0.0249 > 0.05 => there is a reason to reject null hyphothesis\n",
    "<br> Residuals do not have a normal distribution."
   ]
  },
  {
   "cell_type": "code",
   "execution_count": 153,
   "metadata": {},
   "outputs": [
    {
     "data": {
      "image/png": "[encoded data removed]",
      "text/plain": [
       "<Figure size 432x288 with 1 Axes>"
      ]
     },
     "metadata": {},
     "output_type": "display_data"
    }
   ],
   "source": [
    "plt.hist(results4.resid)\n",
    "plt.ylabel('Count')\n",
    "plt.xlabel('Residuals')\n",
    "plt.show()"
   ]
  },
  {
   "cell_type": "markdown",
   "metadata": {},
   "source": [
    "<br> Assumption of Normal Distribution of Residuals does not have to be met. According to Gauss-Markov Theorem Least Squares Regression is the BLUE estimator regardless of it. A normal distribution is only used to show that the estimator is also the Maximum Likelihood Estimator. "
   ]
  },
  {
   "cell_type": "markdown",
   "metadata": {},
   "source": [
    "* HETEROSKEDASTICITY"
   ]
  },
  {
   "cell_type": "code",
   "execution_count": 154,
   "metadata": {
    "scrolled": true
   },
   "outputs": [
    {
     "data": {
      "text/plain": [
       "[('Lagrange multiplier statistic', 3.1391939447323867),\n",
       " ('p-value', 0.3706581033834159),\n",
       " ('f-value', 1.0394617415669198),\n",
       " ('f p-value', 0.377481863125743)]"
      ]
     },
     "execution_count": 154,
     "metadata": {},
     "output_type": "execute_result"
    }
   ],
   "source": [
    "name = ['Lagrange multiplier statistic', 'p-value',\n",
    "        'f-value', 'f p-value']\n",
    "test = sms.het_breuschpagan(results4.resid, results4.model.exog)\n",
    "lzip(name, test)"
   ]
  },
  {
   "cell_type": "markdown",
   "metadata": {},
   "source": [
    "Breush-Pagan test\n",
    "<br> H_0: homoskedasticity\n",
    "<br> H_1: heteroskedasticity\n",
    "<br> BP = 0.3706581033834159 > 0.05 => there is no reason to reject null hyphothesis\n",
    "<br> The problem of heteroskedasticity does not occure in this model. "
   ]
  },
  {
   "cell_type": "markdown",
   "metadata": {},
   "source": [
    "#### (a) Write down the estimated regression equation and explain how you came to choose it."
   ]
  },
  {
   "cell_type": "markdown",
   "metadata": {},
   "source": [
    "WE HAVE TO PUT HERE A PHOTO OF AN EQUATION ONCE WE FIGURE OUT THE FINAL MODEL (MULTICOLLINEARITY!!!)"
   ]
  },
  {
   "cell_type": "code",
   "execution_count": 82,
   "metadata": {},
   "outputs": [
    {
     "name": "stdout",
     "output_type": "stream",
     "text": [
      "logFairPr     6.907755\n",
      "logFxCost     6.551080\n",
      "logBidders    1.386294\n",
      "Rigged        0.000000\n",
      "dtype: float64\n"
     ]
    }
   ],
   "source": [
    "fairpr = 1000\n",
    "fxcost = 700\n",
    "bidders = 4\n",
    "rigged = 0\n",
    "bet = pd.Series({'logFairPr': np.log(fairpr),\n",
    "                 'logFxCost': np.log(fxcost),\n",
    "                 'logBidders': np.log(bidders),\n",
    "                 'Rigged': rigged})\n",
    "print(bet)"
   ]
  },
  {
   "cell_type": "code",
   "execution_count": 95,
   "metadata": {},
   "outputs": [
    {
     "data": {
      "text/plain": [
       "[('Mean', 901.6941606037242),\n",
       " ('10% LB', 733.8246742849649),\n",
       " ('10% UB', 1107.9654142988434)]"
      ]
     },
     "execution_count": 95,
     "metadata": {},
     "output_type": "execute_result"
    }
   ],
   "source": [
    "pred = results4.get_prediction(bet)\n",
    "summary = np.exp(pred.summary_frame(alpha=0.10))\n",
    "lzip(['Mean', '10% LB', '10% UB'],\n",
    "     [summary['mean'].loc[0], summary['obs_ci_lower'].loc[0], summary['obs_ci_upper'].loc[0]])"
    ]
   },
   {  
   "cell_type": "markdown",
   "metadata": {},
   "source": [
    "The process of creating a model was described step by step on each stage of its development. Below we present a short summary.\n",
    "<BR> Taking into consideration results of tests checking functional form of a primary model 2a, normality of its residuals and its heteroskedasticity, we decided to reevaluate a functional form of the model. As far as meeting an assumption of a normal distribution of residuals is desirable however not mandatory, using OLS method for regression requires a condition of homoskedastic residuals to be met. \n",
    "<BR> The method we decided to use to fix a problem with both- non normal distribution of residuals and its heteroskedasticity, is an adoption of logaritms of non binary variables that do not meet an assumption of a normal distribution of its own, that is \"Price\", \"FairPr\", \"Bidders\" and \"FxCost\". Thereafter variable \"logFxCost\" was dropped due to it's lack of statistical sigifficance at the level of 20%. \n",
    "<BR> Results of Breush- Pagan test confirmed that the problem of heteroskedasticity does no longer occure in this model. Residuals still do not have a normal distribution however, as mentioned above, assumption of Normal Distribution of Residuals does not have to be met. According to Gauss-Markov Theorem Least Squares Regression is the BLUE estimator regardless of it. A normal distribution is only used to show that the estimator is also the Maximum Likelihood Estimator. "
   ]
  },
  {
   "cell_type": "markdown",
   "metadata": {},
   "source": [
    "#### (b) Give a point estimate for the winning bid and provide an interval that will contain the winning bid with 90% confidence."
   ]
  },
  {
   "cell_type": "markdown",
   "metadata": {},
   "source": [
    "#### (c) How confident are you that in this project the winning bid will come in “under budget” (so that Bob will earn his bonus)?"
   ]
  },
  {
   "cell_type": "code",
   "execution_count": null,
   "metadata": {},
   "outputs": [],
   "source": []
  },
  {
   "cell_type": "markdown",
   "metadata": {
    "collapsed": true
   },
   "source": [
    "## MODEL 4"
   ]
  },
  {
   "cell_type": "markdown",
   "metadata": {},
   "source": [
    "ODOT has a road reconstruction project that is in the early planning phase. Just before putting the job up for auction, it is learnt that building an additional pedestrian bridge will be necessary as part of the project. This change will not affect the duration of the job or the length of the road, but it will increase fixed costs (FxCost) by 15% and overall estimated costs (FairPr) by 5%.\n",
    "<BR> ODOT hasn’t put the project up for bidding yet, and your goal is to estimate the percentage increase in the winning bid (the Price of the contract) that will ultimately result from the change in projected costs."
   ]
  },
  {
   "cell_type": "markdown",
   "metadata": {},
   "source": [
    "#### (a) What regression would you use to estimate the increase in Price? Write down the estimated regression equation, and explain how you arrived at that regression.\n"
   ]
  },
  {
   "cell_type": "markdown",
   "metadata": {},
   "source": [
    "#### (b) Using your regression in part (a), what is your estimate for the percentage increase in the Price of this contract?"
   ]
  }
 ],
 "metadata": {
  "kernelspec": {
   "display_name": "Python 3",
   "language": "python",
   "name": "python3"
  },
  "language_info": {
   "codemirror_mode": {
    "name": "ipython",
    "version": 3
   },
   "file_extension": ".py",
   "mimetype": "text/x-python",
   "name": "python",
   "nbconvert_exporter": "python",
   "pygments_lexer": "ipython3",
   "version": "3.6.3"
  }
 },
 "nbformat": 4,
 "nbformat_minor": 2
}
